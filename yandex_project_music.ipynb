{
 "cells": [
  {
   "cell_type": "markdown",
   "metadata": {
    "id": "E0vqbgi9ay0H"
   },
   "source": [
    "# Яндекс.Музыка"
   ]
  },
  {
   "cell_type": "markdown",
   "metadata": {
    "id": "VUC88oWjTJw2"
   },
   "source": [
    "Сравнение Москвы и Петербурга окружено мифами. Например:\n",
    " * Москва — мегаполис, подчинённый жёсткому ритму рабочей недели;\n",
    " * Петербург — культурная столица, со своими вкусами.\n",
    "\n",
    "На данных Яндекс.Музыки сравним поведение пользователей двух столиц.\n",
    "\n",
    "**Цель исследования** — проверить три гипотезы:\n",
    "1. Активность пользователей зависит от дня недели. Причём в Москве и Петербурге это проявляется по-разному.\n",
    "2. В понедельник утром в Москве преобладают одни жанры, а в Петербурге — другие. Так же и вечером пятницы преобладают разные жанры — в зависимости от города. \n",
    "3. Москва и Петербург предпочитают разные жанры музыки. В Москве чаще слушают поп-музыку, в Петербурге — русский рэп.\n",
    "\n",
    "**Ход исследования**\n",
    " \n",
    "Таким образом, исследование пройдёт в три этапа:\n",
    " 1. Обзор данных.\n",
    " 2. Предобработка данных.\n",
    " 3. Проверка гипотез.\n",
    "\n"
   ]
  },
  {
   "cell_type": "markdown",
   "metadata": {
    "id": "Ml1hmfXC_Zcs"
   },
   "source": [
    "## Обзор данных\n",
    "\n",
    "\n",
    "\n"
   ]
  },
  {
   "cell_type": "code",
   "execution_count": 1,
   "metadata": {
    "id": "AXN7PHPN_Zcs"
   },
   "outputs": [],
   "source": [
    "# импорт библиотеки pandas\n",
    "import pandas as pd"
   ]
  },
  {
   "cell_type": "code",
   "execution_count": 2,
   "metadata": {
    "id": "fFVu7vqh_Zct"
   },
   "outputs": [],
   "source": [
    "# чтение файла с данными и сохранение в df\n",
    "df = pd.read_csv('/datasets/yandex_music_project.csv')\n",
    "df.to_csv('dataset.csv', index=False)\n"
   ]
  },
  {
   "cell_type": "code",
   "execution_count": 3,
   "metadata": {
    "id": "oWTVX3gW_Zct"
   },
   "outputs": [
    {
     "data": {
      "text/html": [
       "<div>\n",
       "<style scoped>\n",
       "    .dataframe tbody tr th:only-of-type {\n",
       "        vertical-align: middle;\n",
       "    }\n",
       "\n",
       "    .dataframe tbody tr th {\n",
       "        vertical-align: top;\n",
       "    }\n",
       "\n",
       "    .dataframe thead th {\n",
       "        text-align: right;\n",
       "    }\n",
       "</style>\n",
       "<table border=\"1\" class=\"dataframe\">\n",
       "  <thead>\n",
       "    <tr style=\"text-align: right;\">\n",
       "      <th></th>\n",
       "      <th>userID</th>\n",
       "      <th>Track</th>\n",
       "      <th>artist</th>\n",
       "      <th>genre</th>\n",
       "      <th>City</th>\n",
       "      <th>time</th>\n",
       "      <th>Day</th>\n",
       "    </tr>\n",
       "  </thead>\n",
       "  <tbody>\n",
       "    <tr>\n",
       "      <td>0</td>\n",
       "      <td>FFB692EC</td>\n",
       "      <td>Kamigata To Boots</td>\n",
       "      <td>The Mass Missile</td>\n",
       "      <td>rock</td>\n",
       "      <td>Saint-Petersburg</td>\n",
       "      <td>20:28:33</td>\n",
       "      <td>Wednesday</td>\n",
       "    </tr>\n",
       "    <tr>\n",
       "      <td>1</td>\n",
       "      <td>55204538</td>\n",
       "      <td>Delayed Because of Accident</td>\n",
       "      <td>Andreas Rönnberg</td>\n",
       "      <td>rock</td>\n",
       "      <td>Moscow</td>\n",
       "      <td>14:07:09</td>\n",
       "      <td>Friday</td>\n",
       "    </tr>\n",
       "    <tr>\n",
       "      <td>2</td>\n",
       "      <td>20EC38</td>\n",
       "      <td>Funiculì funiculà</td>\n",
       "      <td>Mario Lanza</td>\n",
       "      <td>pop</td>\n",
       "      <td>Saint-Petersburg</td>\n",
       "      <td>20:58:07</td>\n",
       "      <td>Wednesday</td>\n",
       "    </tr>\n",
       "    <tr>\n",
       "      <td>3</td>\n",
       "      <td>A3DD03C9</td>\n",
       "      <td>Dragons in the Sunset</td>\n",
       "      <td>Fire + Ice</td>\n",
       "      <td>folk</td>\n",
       "      <td>Saint-Petersburg</td>\n",
       "      <td>08:37:09</td>\n",
       "      <td>Monday</td>\n",
       "    </tr>\n",
       "    <tr>\n",
       "      <td>4</td>\n",
       "      <td>E2DC1FAE</td>\n",
       "      <td>Soul People</td>\n",
       "      <td>Space Echo</td>\n",
       "      <td>dance</td>\n",
       "      <td>Moscow</td>\n",
       "      <td>08:34:34</td>\n",
       "      <td>Monday</td>\n",
       "    </tr>\n",
       "    <tr>\n",
       "      <td>5</td>\n",
       "      <td>842029A1</td>\n",
       "      <td>Преданная</td>\n",
       "      <td>IMPERVTOR</td>\n",
       "      <td>rusrap</td>\n",
       "      <td>Saint-Petersburg</td>\n",
       "      <td>13:09:41</td>\n",
       "      <td>Friday</td>\n",
       "    </tr>\n",
       "    <tr>\n",
       "      <td>6</td>\n",
       "      <td>4CB90AA5</td>\n",
       "      <td>True</td>\n",
       "      <td>Roman Messer</td>\n",
       "      <td>dance</td>\n",
       "      <td>Moscow</td>\n",
       "      <td>13:00:07</td>\n",
       "      <td>Wednesday</td>\n",
       "    </tr>\n",
       "    <tr>\n",
       "      <td>7</td>\n",
       "      <td>F03E1C1F</td>\n",
       "      <td>Feeling This Way</td>\n",
       "      <td>Polina Griffith</td>\n",
       "      <td>dance</td>\n",
       "      <td>Moscow</td>\n",
       "      <td>20:47:49</td>\n",
       "      <td>Wednesday</td>\n",
       "    </tr>\n",
       "    <tr>\n",
       "      <td>8</td>\n",
       "      <td>8FA1D3BE</td>\n",
       "      <td>И вновь продолжается бой</td>\n",
       "      <td>NaN</td>\n",
       "      <td>ruspop</td>\n",
       "      <td>Moscow</td>\n",
       "      <td>09:17:40</td>\n",
       "      <td>Friday</td>\n",
       "    </tr>\n",
       "    <tr>\n",
       "      <td>9</td>\n",
       "      <td>E772D5C0</td>\n",
       "      <td>Pessimist</td>\n",
       "      <td>NaN</td>\n",
       "      <td>dance</td>\n",
       "      <td>Saint-Petersburg</td>\n",
       "      <td>21:20:49</td>\n",
       "      <td>Wednesday</td>\n",
       "    </tr>\n",
       "  </tbody>\n",
       "</table>\n",
       "</div>"
      ],
      "text/plain": [
       "     userID                        Track            artist   genre  \\\n",
       "0  FFB692EC            Kamigata To Boots  The Mass Missile    rock   \n",
       "1  55204538  Delayed Because of Accident  Andreas Rönnberg    rock   \n",
       "2    20EC38            Funiculì funiculà       Mario Lanza     pop   \n",
       "3  A3DD03C9        Dragons in the Sunset        Fire + Ice    folk   \n",
       "4  E2DC1FAE                  Soul People        Space Echo   dance   \n",
       "5  842029A1                    Преданная         IMPERVTOR  rusrap   \n",
       "6  4CB90AA5                         True      Roman Messer   dance   \n",
       "7  F03E1C1F             Feeling This Way   Polina Griffith   dance   \n",
       "8  8FA1D3BE     И вновь продолжается бой               NaN  ruspop   \n",
       "9  E772D5C0                    Pessimist               NaN   dance   \n",
       "\n",
       "             City        time        Day  \n",
       "0  Saint-Petersburg  20:28:33  Wednesday  \n",
       "1            Moscow  14:07:09     Friday  \n",
       "2  Saint-Petersburg  20:58:07  Wednesday  \n",
       "3  Saint-Petersburg  08:37:09     Monday  \n",
       "4            Moscow  08:34:34     Monday  \n",
       "5  Saint-Petersburg  13:09:41     Friday  \n",
       "6            Moscow  13:00:07  Wednesday  \n",
       "7            Moscow  20:47:49  Wednesday  \n",
       "8            Moscow  09:17:40     Friday  \n",
       "9  Saint-Petersburg  21:20:49  Wednesday  "
      ]
     },
     "execution_count": 3,
     "metadata": {},
     "output_type": "execute_result"
    }
   ],
   "source": [
    "# получение первых 10 строк таблицы df\n",
    "df.head(10)"
   ]
  },
  {
   "cell_type": "code",
   "execution_count": 4,
   "metadata": {
    "id": "DSf2kIb-_Zct"
   },
   "outputs": [
    {
     "name": "stdout",
     "output_type": "stream",
     "text": [
      "<class 'pandas.core.frame.DataFrame'>\n",
      "RangeIndex: 65079 entries, 0 to 65078\n",
      "Data columns (total 7 columns):\n",
      "  userID    65079 non-null object\n",
      "Track       63848 non-null object\n",
      "artist      57876 non-null object\n",
      "genre       63881 non-null object\n",
      "  City      65079 non-null object\n",
      "time        65079 non-null object\n",
      "Day         65079 non-null object\n",
      "dtypes: object(7)\n",
      "memory usage: 3.5+ MB\n"
     ]
    }
   ],
   "source": [
    "# получение общей информации о данных в таблице df\n",
    "df.info()"
   ]
  },
  {
   "cell_type": "markdown",
   "metadata": {
    "id": "MCB6-dXG_Zct"
   },
   "source": [
    "**Выводы**\n",
    "\n",
    "В каждой строке таблицы — данные о прослушанном треке. Часть колонок описывает саму композицию: название, исполнителя и жанр. Остальные данные рассказывают о пользователе: из какого он города, когда он слушал музыку. \n",
    "\n",
    "Предварительно можно утверждать, что, данных достаточно для проверки гипотез. Но встречаются пропуски в данных, а в названиях колонок — расхождения с хорошим стилем.\n",
    "\n",
    "Чтобы двигаться дальше, нужно устранить проблемы в данных."
   ]
  },
  {
   "cell_type": "markdown",
   "metadata": {
    "id": "SjYF6Ub9_Zct"
   },
   "source": [
    "## Предобработка данных\n"
   ]
  },
  {
   "cell_type": "markdown",
   "metadata": {
    "id": "dIaKXr29_Zct"
   },
   "source": [
    "### Стиль заголовков\n"
   ]
  },
  {
   "cell_type": "code",
   "execution_count": 5,
   "metadata": {
    "id": "oKOTdF_Q_Zct"
   },
   "outputs": [
    {
     "data": {
      "text/plain": [
       "Index(['  userID', 'Track', 'artist', 'genre', '  City  ', 'time', 'Day'], dtype='object')"
      ]
     },
     "execution_count": 5,
     "metadata": {},
     "output_type": "execute_result"
    }
   ],
   "source": [
    "# перечень названий столбцов таблицы df\n",
    "df.columns"
   ]
  },
  {
   "cell_type": "code",
   "execution_count": 6,
   "metadata": {
    "id": "ISlFqs5y_Zct"
   },
   "outputs": [],
   "source": [
    "# переименование столбцов\n",
    "df = df.rename(columns={'  userID':'user_id','Track': 'track','  City  ':'city','Day':'day'})"
   ]
  },
  {
   "cell_type": "code",
   "execution_count": 7,
   "metadata": {
    "id": "d4NOAmTW_Zct"
   },
   "outputs": [
    {
     "data": {
      "text/plain": [
       "Index(['user_id', 'track', 'artist', 'genre', 'city', 'time', 'day'], dtype='object')"
      ]
     },
     "execution_count": 7,
     "metadata": {},
     "output_type": "execute_result"
    }
   ],
   "source": [
    "# проверка результатов - перечень названий столбцов\n",
    "df.columns"
   ]
  },
  {
   "cell_type": "markdown",
   "metadata": {
    "id": "5ISfbcfY_Zct"
   },
   "source": [
    "### Пропуски значений\n"
   ]
  },
  {
   "cell_type": "code",
   "execution_count": 8,
   "metadata": {
    "id": "RskX29qr_Zct",
    "scrolled": true
   },
   "outputs": [
    {
     "data": {
      "text/plain": [
       "user_id       0\n",
       "track      1231\n",
       "artist     7203\n",
       "genre      1198\n",
       "city          0\n",
       "time          0\n",
       "day           0\n",
       "dtype: int64"
      ]
     },
     "execution_count": 8,
     "metadata": {},
     "output_type": "execute_result"
    }
   ],
   "source": [
    "# подсчёт пропусков\n",
    "df.isna().sum()"
   ]
  },
  {
   "cell_type": "code",
   "execution_count": 9,
   "metadata": {
    "id": "KplB5qWs_Zct"
   },
   "outputs": [],
   "source": [
    "# перебор названий столбцов в цикле и замена пропущенных значений на 'unknown'\n",
    "columns_to_replace = ['track', 'artist', 'genre']\n",
    "for column in columns_to_replace:\n",
    "    df[column] = df[column].fillna('unknown')\n"
   ]
  },
  {
   "cell_type": "code",
   "execution_count": 10,
   "metadata": {
    "id": "Tq4nYRX4_Zct"
   },
   "outputs": [
    {
     "data": {
      "text/plain": [
       "user_id    0\n",
       "track      0\n",
       "artist     0\n",
       "genre      0\n",
       "city       0\n",
       "time       0\n",
       "day        0\n",
       "dtype: int64"
      ]
     },
     "execution_count": 10,
     "metadata": {},
     "output_type": "execute_result"
    }
   ],
   "source": [
    "# подсчёт пропусков\n",
    "df.isna().sum()"
   ]
  },
  {
   "cell_type": "code",
   "execution_count": 11,
   "metadata": {
    "id": "36eES_S0_Zct"
   },
   "outputs": [
    {
     "data": {
      "text/plain": [
       "3826"
      ]
     },
     "execution_count": 11,
     "metadata": {},
     "output_type": "execute_result"
    }
   ],
   "source": [
    "# подсчёт явных дубликатов\n",
    "df.duplicated().sum()"
   ]
  },
  {
   "cell_type": "code",
   "execution_count": 12,
   "metadata": {
    "id": "exFHq6tt_Zct"
   },
   "outputs": [],
   "source": [
    "# удаление явных дубликатов (с удалением старых индексов и формированием новых)\n",
    "df = df.drop_duplicates().reset_index(drop=True)"
   ]
  },
  {
   "cell_type": "code",
   "execution_count": 13,
   "metadata": {
    "id": "-8PuNWQ0_Zct"
   },
   "outputs": [
    {
     "data": {
      "text/plain": [
       "0"
      ]
     },
     "execution_count": 13,
     "metadata": {},
     "output_type": "execute_result"
    }
   ],
   "source": [
    "# проверка на отсутствие дубликатов\n",
    "df.duplicated().sum()"
   ]
  },
  {
   "cell_type": "code",
   "execution_count": 14,
   "metadata": {
    "id": "JIUcqzZN_Zct"
   },
   "outputs": [
    {
     "data": {
      "text/plain": [
       "array(['acid', 'acoustic', 'action', 'adult', 'africa', 'afrikaans',\n",
       "       'alternative', 'alternativepunk', 'ambient', 'americana',\n",
       "       'animated', 'anime', 'arabesk', 'arabic', 'arena',\n",
       "       'argentinetango', 'art', 'audiobook', 'author', 'avantgarde',\n",
       "       'axé', 'baile', 'balkan', 'beats', 'bigroom', 'black', 'bluegrass',\n",
       "       'blues', 'bollywood', 'bossa', 'brazilian', 'breakbeat', 'breaks',\n",
       "       'broadway', 'cantautori', 'cantopop', 'canzone', 'caribbean',\n",
       "       'caucasian', 'celtic', 'chamber', 'chanson', 'children', 'chill',\n",
       "       'chinese', 'choral', 'christian', 'christmas', 'classical',\n",
       "       'classicmetal', 'club', 'colombian', 'comedy', 'conjazz',\n",
       "       'contemporary', 'country', 'cuban', 'dance', 'dancehall',\n",
       "       'dancepop', 'dark', 'death', 'deep', 'deutschrock', 'deutschspr',\n",
       "       'dirty', 'disco', 'dnb', 'documentary', 'downbeat', 'downtempo',\n",
       "       'drum', 'dub', 'dubstep', 'eastern', 'easy', 'electronic',\n",
       "       'electropop', 'emo', 'entehno', 'epicmetal', 'estrada', 'ethnic',\n",
       "       'eurofolk', 'european', 'experimental', 'extrememetal', 'fado',\n",
       "       'fairytail', 'film', 'fitness', 'flamenco', 'folk', 'folklore',\n",
       "       'folkmetal', 'folkrock', 'folktronica', 'forró', 'frankreich',\n",
       "       'französisch', 'french', 'funk', 'future', 'gangsta', 'garage',\n",
       "       'german', 'ghazal', 'gitarre', 'glitch', 'gospel', 'gothic',\n",
       "       'grime', 'grunge', 'gypsy', 'handsup', \"hard'n'heavy\", 'hardcore',\n",
       "       'hardstyle', 'hardtechno', 'hip', 'hip-hop', 'hiphop',\n",
       "       'historisch', 'holiday', 'hop', 'horror', 'house', 'hymn', 'idm',\n",
       "       'independent', 'indian', 'indie', 'indipop', 'industrial',\n",
       "       'inspirational', 'instrumental', 'international', 'irish', 'jam',\n",
       "       'japanese', 'jazz', 'jewish', 'jpop', 'jungle', 'k-pop',\n",
       "       'karadeniz', 'karaoke', 'kayokyoku', 'korean', 'laiko', 'latin',\n",
       "       'latino', 'leftfield', 'local', 'lounge', 'loungeelectronic',\n",
       "       'lovers', 'malaysian', 'mandopop', 'marschmusik', 'meditative',\n",
       "       'mediterranean', 'melodic', 'metal', 'metalcore', 'mexican',\n",
       "       'middle', 'minimal', 'miscellaneous', 'modern', 'mood', 'mpb',\n",
       "       'muslim', 'native', 'neoklassik', 'neue', 'new', 'newage',\n",
       "       'newwave', 'nu', 'nujazz', 'numetal', 'oceania', 'old', 'opera',\n",
       "       'orchestral', 'other', 'piano', 'podcasts', 'pop', 'popdance',\n",
       "       'popelectronic', 'popeurodance', 'poprussian', 'post',\n",
       "       'posthardcore', 'postrock', 'power', 'progmetal', 'progressive',\n",
       "       'psychedelic', 'punjabi', 'punk', 'quebecois', 'ragga', 'ram',\n",
       "       'rancheras', 'rap', 'rave', 'reggae', 'reggaeton', 'regional',\n",
       "       'relax', 'religious', 'retro', 'rhythm', 'rnb', 'rnr', 'rock',\n",
       "       'rockabilly', 'rockalternative', 'rockindie', 'rockother',\n",
       "       'romance', 'roots', 'ruspop', 'rusrap', 'rusrock', 'russian',\n",
       "       'salsa', 'samba', 'scenic', 'schlager', 'self', 'sertanejo',\n",
       "       'shanson', 'shoegazing', 'showtunes', 'singer', 'ska', 'skarock',\n",
       "       'slow', 'smooth', 'soft', 'soul', 'soulful', 'sound', 'soundtrack',\n",
       "       'southern', 'specialty', 'speech', 'spiritual', 'sport',\n",
       "       'stonerrock', 'surf', 'swing', 'synthpop', 'synthrock',\n",
       "       'sängerportrait', 'tango', 'tanzorchester', 'taraftar', 'tatar',\n",
       "       'tech', 'techno', 'teen', 'thrash', 'top', 'traditional',\n",
       "       'tradjazz', 'trance', 'tribal', 'trip', 'triphop', 'tropical',\n",
       "       'türk', 'türkçe', 'ukrrock', 'unknown', 'urban', 'uzbek',\n",
       "       'variété', 'vi', 'videogame', 'vocal', 'western', 'world',\n",
       "       'worldbeat', 'ïîï', 'электроника'], dtype=object)"
      ]
     },
     "execution_count": 14,
     "metadata": {},
     "output_type": "execute_result"
    }
   ],
   "source": [
    "# Просмотр уникальных названий жанров\n",
    "df['genre'].sort_values().unique()"
   ]
  },
  {
   "cell_type": "code",
   "execution_count": 15,
   "metadata": {
    "id": "ErNDkmns_Zct"
   },
   "outputs": [],
   "source": [
    "# Функция для замены неявных дубликатов\n",
    "def replace_wrong_genres(wrong_genres,correct_genre):\n",
    "    df['genre']=df['genre'].replace(wrong_genres,correct_genre)\n",
    "    \n",
    "    \n"
   ]
  },
  {
   "cell_type": "code",
   "execution_count": 16,
   "metadata": {
    "id": "YN5i2hpmSo09"
   },
   "outputs": [],
   "source": [
    "# Устранение неявных дубликатов\n",
    "wrong_name = ['hip', 'hop', 'hip-hop']\n",
    "correct_name = 'hiphop'\n",
    "\n",
    "replace_wrong_genres(wrong_name,correct_name)"
   ]
  },
  {
   "cell_type": "code",
   "execution_count": 17,
   "metadata": {
    "id": "wvixALnFG15m"
   },
   "outputs": [
    {
     "data": {
      "text/plain": [
       "array(['acid', 'acoustic', 'action', 'adult', 'africa', 'afrikaans',\n",
       "       'alternative', 'alternativepunk', 'ambient', 'americana',\n",
       "       'animated', 'anime', 'arabesk', 'arabic', 'arena',\n",
       "       'argentinetango', 'art', 'audiobook', 'author', 'avantgarde',\n",
       "       'axé', 'baile', 'balkan', 'beats', 'bigroom', 'black', 'bluegrass',\n",
       "       'blues', 'bollywood', 'bossa', 'brazilian', 'breakbeat', 'breaks',\n",
       "       'broadway', 'cantautori', 'cantopop', 'canzone', 'caribbean',\n",
       "       'caucasian', 'celtic', 'chamber', 'chanson', 'children', 'chill',\n",
       "       'chinese', 'choral', 'christian', 'christmas', 'classical',\n",
       "       'classicmetal', 'club', 'colombian', 'comedy', 'conjazz',\n",
       "       'contemporary', 'country', 'cuban', 'dance', 'dancehall',\n",
       "       'dancepop', 'dark', 'death', 'deep', 'deutschrock', 'deutschspr',\n",
       "       'dirty', 'disco', 'dnb', 'documentary', 'downbeat', 'downtempo',\n",
       "       'drum', 'dub', 'dubstep', 'eastern', 'easy', 'electronic',\n",
       "       'electropop', 'emo', 'entehno', 'epicmetal', 'estrada', 'ethnic',\n",
       "       'eurofolk', 'european', 'experimental', 'extrememetal', 'fado',\n",
       "       'fairytail', 'film', 'fitness', 'flamenco', 'folk', 'folklore',\n",
       "       'folkmetal', 'folkrock', 'folktronica', 'forró', 'frankreich',\n",
       "       'französisch', 'french', 'funk', 'future', 'gangsta', 'garage',\n",
       "       'german', 'ghazal', 'gitarre', 'glitch', 'gospel', 'gothic',\n",
       "       'grime', 'grunge', 'gypsy', 'handsup', \"hard'n'heavy\", 'hardcore',\n",
       "       'hardstyle', 'hardtechno', 'hiphop', 'historisch', 'holiday',\n",
       "       'horror', 'house', 'hymn', 'idm', 'independent', 'indian', 'indie',\n",
       "       'indipop', 'industrial', 'inspirational', 'instrumental',\n",
       "       'international', 'irish', 'jam', 'japanese', 'jazz', 'jewish',\n",
       "       'jpop', 'jungle', 'k-pop', 'karadeniz', 'karaoke', 'kayokyoku',\n",
       "       'korean', 'laiko', 'latin', 'latino', 'leftfield', 'local',\n",
       "       'lounge', 'loungeelectronic', 'lovers', 'malaysian', 'mandopop',\n",
       "       'marschmusik', 'meditative', 'mediterranean', 'melodic', 'metal',\n",
       "       'metalcore', 'mexican', 'middle', 'minimal', 'miscellaneous',\n",
       "       'modern', 'mood', 'mpb', 'muslim', 'native', 'neoklassik', 'neue',\n",
       "       'new', 'newage', 'newwave', 'nu', 'nujazz', 'numetal', 'oceania',\n",
       "       'old', 'opera', 'orchestral', 'other', 'piano', 'podcasts', 'pop',\n",
       "       'popdance', 'popelectronic', 'popeurodance', 'poprussian', 'post',\n",
       "       'posthardcore', 'postrock', 'power', 'progmetal', 'progressive',\n",
       "       'psychedelic', 'punjabi', 'punk', 'quebecois', 'ragga', 'ram',\n",
       "       'rancheras', 'rap', 'rave', 'reggae', 'reggaeton', 'regional',\n",
       "       'relax', 'religious', 'retro', 'rhythm', 'rnb', 'rnr', 'rock',\n",
       "       'rockabilly', 'rockalternative', 'rockindie', 'rockother',\n",
       "       'romance', 'roots', 'ruspop', 'rusrap', 'rusrock', 'russian',\n",
       "       'salsa', 'samba', 'scenic', 'schlager', 'self', 'sertanejo',\n",
       "       'shanson', 'shoegazing', 'showtunes', 'singer', 'ska', 'skarock',\n",
       "       'slow', 'smooth', 'soft', 'soul', 'soulful', 'sound', 'soundtrack',\n",
       "       'southern', 'specialty', 'speech', 'spiritual', 'sport',\n",
       "       'stonerrock', 'surf', 'swing', 'synthpop', 'synthrock',\n",
       "       'sängerportrait', 'tango', 'tanzorchester', 'taraftar', 'tatar',\n",
       "       'tech', 'techno', 'teen', 'thrash', 'top', 'traditional',\n",
       "       'tradjazz', 'trance', 'tribal', 'trip', 'triphop', 'tropical',\n",
       "       'türk', 'türkçe', 'ukrrock', 'unknown', 'urban', 'uzbek',\n",
       "       'variété', 'vi', 'videogame', 'vocal', 'western', 'world',\n",
       "       'worldbeat', 'ïîï', 'электроника'], dtype=object)"
      ]
     },
     "execution_count": 17,
     "metadata": {},
     "output_type": "execute_result"
    }
   ],
   "source": [
    "# Проверка на неявные дубликаты\n",
    "df['genre'].sort_values().unique()"
   ]
  },
  {
   "cell_type": "markdown",
   "metadata": {
    "id": "jz6a9-7HQUDd"
   },
   "source": [
    "**Выводы**\n",
    "\n",
    "Предобработка обнаружила три проблемы в данных:\n",
    "\n",
    "- нарушения в стиле заголовков,\n",
    "- пропущенные значения,\n",
    "- дубликаты — явные и неявные.\n",
    "\n",
    "\n",
    "\n",
    "Теперь можно перейти к проверке гипотез. "
   ]
  },
  {
   "cell_type": "markdown",
   "metadata": {
    "id": "WttZHXH0SqKk"
   },
   "source": [
    "## Проверка гипотез"
   ]
  },
  {
   "cell_type": "markdown",
   "metadata": {
    "id": "Im936VVi_Zcu"
   },
   "source": [
    "### Сравнение поведения пользователей двух столиц"
   ]
  },
  {
   "cell_type": "markdown",
   "metadata": {
    "id": "nwt_MuaL_Zcu"
   },
   "source": [
    "Первая гипотеза утверждает, что пользователи по-разному слушают музыку в Москве и Санкт-Петербурге. Проверим это предположение по данным о трёх днях недели — понедельнике, среде и пятнице.\n"
   ]
  },
  {
   "cell_type": "markdown",
   "metadata": {
    "id": "8Dw_YMmT_Zcu"
   },
   "source": [
    "\n",
    "\n",
    "Оценив активность пользователей в каждом городе, cгруппируем данные по городу и посчитаем прослушивания в каждой группе.\n",
    "\n"
   ]
  },
  {
   "cell_type": "code",
   "execution_count": 18,
   "metadata": {
    "id": "0_Qs96oh_Zcu"
   },
   "outputs": [
    {
     "data": {
      "text/plain": [
       "city\n",
       "Moscow              42741\n",
       "Saint-Petersburg    18512\n",
       "Name: genre, dtype: int64"
      ]
     },
     "execution_count": 18,
     "metadata": {},
     "output_type": "execute_result"
    }
   ],
   "source": [
    "# Подсчёт прослушиваний в каждом городе\n",
    "city_number = df.groupby('city')['genre'].count()\n",
    "city_number\n",
    "\n"
   ]
  },
  {
   "cell_type": "markdown",
   "metadata": {
    "id": "dzli3w8o_Zcu"
   },
   "source": [
    "В Москве прослушиваний больше, чем в Петербурге. Из этого не следует, что московские пользователи чаще слушают музыку. Просто самих пользователей в Москве больше.\n",
    "\n",
    "Теперь сгруппируем данные по дню недели и подсчитаем прослушивания в понедельник, среду и пятницу. \n"
   ]
  },
  {
   "cell_type": "code",
   "execution_count": 19,
   "metadata": {
    "id": "uZMKjiJz_Zcu"
   },
   "outputs": [
    {
     "data": {
      "text/plain": [
       "day\n",
       "Friday       21840\n",
       "Monday       21354\n",
       "Wednesday    18059\n",
       "Name: genre, dtype: int64"
      ]
     },
     "execution_count": 19,
     "metadata": {},
     "output_type": "execute_result"
    }
   ],
   "source": [
    "# Подсчёт прослушиваний в каждый из трёх дней\n",
    "df.groupby('day')['genre'].count()"
   ]
  },
  {
   "cell_type": "markdown",
   "metadata": {
    "id": "cC2tNrlL_Zcu"
   },
   "source": [
    "В среднем пользователи из двух городов менее активны по средам. Но картина может измениться, если рассмотреть каждый город в отдельности."
   ]
  },
  {
   "cell_type": "code",
   "execution_count": 20,
   "metadata": {
    "id": "Nz3GdQB1_Zcu"
   },
   "outputs": [],
   "source": [
    "# <создание функции number_tracks()>\n",
    "# Объявляется функция с двумя параметрами: day, city.\n",
    "\n",
    "def number_tracks(day,city):\n",
    "    track_list = df[(df['day']==day)&(df['city']==city)]\n",
    "    track_list_count = track_list['user_id'].count()\n",
    "    return track_list_count"
   ]
  },
  {
   "cell_type": "code",
   "execution_count": 21,
   "metadata": {
    "id": "rJcRATNQ_Zcu"
   },
   "outputs": [
    {
     "data": {
      "text/plain": [
       "15740"
      ]
     },
     "execution_count": 21,
     "metadata": {},
     "output_type": "execute_result"
    }
   ],
   "source": [
    "# количество прослушиваний в Москве по понедельникам\n",
    "number_tracks('Monday','Moscow')"
   ]
  },
  {
   "cell_type": "code",
   "execution_count": 22,
   "metadata": {
    "id": "hq_ncZ5T_Zcu"
   },
   "outputs": [
    {
     "data": {
      "text/plain": [
       "5614"
      ]
     },
     "execution_count": 22,
     "metadata": {},
     "output_type": "execute_result"
    }
   ],
   "source": [
    "# количество прослушиваний в Санкт-Петербурге по понедельникам\n",
    "number_tracks('Monday','Saint-Petersburg')"
   ]
  },
  {
   "cell_type": "code",
   "execution_count": 23,
   "metadata": {
    "id": "_NTy2VPU_Zcu"
   },
   "outputs": [
    {
     "data": {
      "text/plain": [
       "11056"
      ]
     },
     "execution_count": 23,
     "metadata": {},
     "output_type": "execute_result"
    }
   ],
   "source": [
    "# количество прослушиваний в Москве по средам\n",
    "number_tracks('Wednesday','Moscow')"
   ]
  },
  {
   "cell_type": "code",
   "execution_count": 24,
   "metadata": {
    "id": "j2y3TAwo_Zcu"
   },
   "outputs": [
    {
     "data": {
      "text/plain": [
       "7003"
      ]
     },
     "execution_count": 24,
     "metadata": {},
     "output_type": "execute_result"
    }
   ],
   "source": [
    "# количество прослушиваний в Санкт-Петербурге по средам\n",
    "number_tracks('Wednesday','Saint-Petersburg')"
   ]
  },
  {
   "cell_type": "code",
   "execution_count": 25,
   "metadata": {
    "id": "vYDw5u_K_Zcu"
   },
   "outputs": [
    {
     "data": {
      "text/plain": [
       "15945"
      ]
     },
     "execution_count": 25,
     "metadata": {},
     "output_type": "execute_result"
    }
   ],
   "source": [
    "# количество прослушиваний в Москве по пятницам\n",
    "number_tracks('Friday','Moscow')"
   ]
  },
  {
   "cell_type": "code",
   "execution_count": 26,
   "metadata": {
    "id": "8_yzFtW3_Zcu"
   },
   "outputs": [
    {
     "data": {
      "text/plain": [
       "5895"
      ]
     },
     "execution_count": 26,
     "metadata": {},
     "output_type": "execute_result"
    }
   ],
   "source": [
    "# количество прослушиваний в Санкт-Петербурге по пятницам\n",
    "number_tracks('Friday','Saint-Petersburg')"
   ]
  },
  {
   "cell_type": "code",
   "execution_count": 27,
   "metadata": {
    "id": "APAcLpOr_Zcu"
   },
   "outputs": [
    {
     "data": {
      "text/html": [
       "<div>\n",
       "<style scoped>\n",
       "    .dataframe tbody tr th:only-of-type {\n",
       "        vertical-align: middle;\n",
       "    }\n",
       "\n",
       "    .dataframe tbody tr th {\n",
       "        vertical-align: top;\n",
       "    }\n",
       "\n",
       "    .dataframe thead th {\n",
       "        text-align: right;\n",
       "    }\n",
       "</style>\n",
       "<table border=\"1\" class=\"dataframe\">\n",
       "  <thead>\n",
       "    <tr style=\"text-align: right;\">\n",
       "      <th></th>\n",
       "      <th>city</th>\n",
       "      <th>monday</th>\n",
       "      <th>wednesday</th>\n",
       "      <th>friday</th>\n",
       "    </tr>\n",
       "  </thead>\n",
       "  <tbody>\n",
       "    <tr>\n",
       "      <td>0</td>\n",
       "      <td>Moscow</td>\n",
       "      <td>15740</td>\n",
       "      <td>11056</td>\n",
       "      <td>15945</td>\n",
       "    </tr>\n",
       "    <tr>\n",
       "      <td>1</td>\n",
       "      <td>Saint-Petersburg</td>\n",
       "      <td>5614</td>\n",
       "      <td>7003</td>\n",
       "      <td>5895</td>\n",
       "    </tr>\n",
       "  </tbody>\n",
       "</table>\n",
       "</div>"
      ],
      "text/plain": [
       "               city  monday  wednesday  friday\n",
       "0            Moscow   15740      11056   15945\n",
       "1  Saint-Petersburg    5614       7003    5895"
      ]
     },
     "execution_count": 27,
     "metadata": {},
     "output_type": "execute_result"
    }
   ],
   "source": [
    "# Таблица с результатами\n",
    "data = [['Moscow', 15740, 11056, 15945],\n",
    "       ['Saint-Petersburg', 5614, 7003, 5895]]\n",
    "columns = ['city','monday','wednesday','friday']\n",
    "table = pd.DataFrame(data = data, columns = columns)\n",
    "table"
   ]
  },
  {
   "cell_type": "markdown",
   "metadata": {
    "id": "-EgPIHYu_Zcu"
   },
   "source": [
    "**Выводы**\n",
    "\n",
    "Данные показывают разницу поведения пользователей:\n",
    "\n",
    "- В Москве пик прослушиваний приходится на понедельник и пятницу, а в среду заметен спад.\n",
    "- В Петербурге, наоборот, больше слушают музыку по средам. Активность в понедельник и пятницу здесь почти в равной мере уступает среде.\n",
    "\n",
    "Значит, данные говорят в пользу первой гипотезы."
   ]
  },
  {
   "cell_type": "markdown",
   "metadata": {
    "id": "atZAxtq4_Zcu"
   },
   "source": [
    "### Музыка в начале и в конце недели"
   ]
  },
  {
   "cell_type": "markdown",
   "metadata": {
    "id": "eXrQqXFH_Zcu"
   },
   "source": [
    "Согласно второй гипотезе, утром в понедельник в Москве преобладают одни жанры, а в Петербурге — другие. Так же и вечером пятницы преобладают разные жанры — в зависимости от города."
   ]
  },
  {
   "cell_type": "code",
   "execution_count": 28,
   "metadata": {
    "id": "qeaFfM_P_Zcu"
   },
   "outputs": [],
   "source": [
    "# получение таблицы moscow_general из тех строк таблицы df, \n",
    "# для которых значение в столбце 'city' равно 'Moscow'\n",
    "moscow_general=df[df['city'] == 'Moscow']\n"
   ]
  },
  {
   "cell_type": "code",
   "execution_count": 29,
   "metadata": {
    "id": "ORaVRKto_Zcu"
   },
   "outputs": [],
   "source": [
    "# получение таблицы spb_general из тех строк таблицы df,\n",
    "# для которых значение в столбце 'city' равно 'Saint-Petersburg'\n",
    "spb_general=df[df['city']=='Saint-Petersburg']"
   ]
  },
  {
   "cell_type": "code",
   "execution_count": 30,
   "metadata": {
    "id": "laJT9BYl_Zcu"
   },
   "outputs": [],
   "source": [
    "\n",
    "def genre_weekday(table, day, time1, time2):\n",
    "    genre_df = table[(table['day']==day)&(table['time']>time1)&(table['time']<time2)]\n",
    "    genre_df_count = genre_df.groupby('genre')['genre'].count()\n",
    "    genre_df_sorted = genre_df_count.sort_values(ascending = False)\n",
    "    return genre_df_sorted.head(10)"
   ]
  },
  {
   "cell_type": "markdown",
   "metadata": {
    "id": "la2s2_PF_Zcu"
   },
   "source": [
    "Cравним результаты функции `genre_weekday()` для Москвы и Санкт-Петербурга в понедельник утром (с 7:00 до 11:00) и в пятницу вечером (с 17:00 до 23:00):"
   ]
  },
  {
   "cell_type": "code",
   "execution_count": 31,
   "metadata": {
    "id": "yz7itPUQ_Zcu"
   },
   "outputs": [
    {
     "data": {
      "text/plain": [
       "genre\n",
       "pop            781\n",
       "dance          549\n",
       "electronic     480\n",
       "rock           474\n",
       "hiphop         286\n",
       "ruspop         186\n",
       "world          181\n",
       "rusrap         175\n",
       "alternative    164\n",
       "unknown        161\n",
       "Name: genre, dtype: int64"
      ]
     },
     "execution_count": 31,
     "metadata": {},
     "output_type": "execute_result"
    }
   ],
   "source": [
    "\n",
    "genre_weekday(moscow_general, 'Monday', '07:00', '11:00')\n"
   ]
  },
  {
   "cell_type": "code",
   "execution_count": 32,
   "metadata": {
    "id": "kwUcHPdy_Zcu"
   },
   "outputs": [
    {
     "data": {
      "text/plain": [
       "genre\n",
       "pop            218\n",
       "dance          182\n",
       "rock           162\n",
       "electronic     147\n",
       "hiphop          80\n",
       "ruspop          64\n",
       "alternative     58\n",
       "rusrap          55\n",
       "jazz            44\n",
       "classical       40\n",
       "Name: genre, dtype: int64"
      ]
     },
     "execution_count": 32,
     "metadata": {},
     "output_type": "execute_result"
    }
   ],
   "source": [
    "\n",
    "genre_weekday(spb_general, 'Monday', '07:00', '11:00')"
   ]
  },
  {
   "cell_type": "code",
   "execution_count": 33,
   "metadata": {
    "id": "EzXVRE1o_Zcu"
   },
   "outputs": [
    {
     "data": {
      "text/plain": [
       "genre\n",
       "pop            713\n",
       "rock           517\n",
       "dance          495\n",
       "electronic     482\n",
       "hiphop         273\n",
       "world          208\n",
       "ruspop         170\n",
       "alternative    163\n",
       "classical      163\n",
       "rusrap         142\n",
       "Name: genre, dtype: int64"
      ]
     },
     "execution_count": 33,
     "metadata": {},
     "output_type": "execute_result"
    }
   ],
   "source": [
    "# вызов функции для вечера пятницы в Москве\n",
    "genre_weekday(moscow_general, 'Friday', '17:00', '23:00')"
   ]
  },
  {
   "cell_type": "code",
   "execution_count": 34,
   "metadata": {
    "id": "JZaEKu5v_Zcu"
   },
   "outputs": [
    {
     "data": {
      "text/plain": [
       "genre\n",
       "pop            256\n",
       "rock           216\n",
       "electronic     216\n",
       "dance          210\n",
       "hiphop          97\n",
       "alternative     63\n",
       "jazz            61\n",
       "classical       60\n",
       "rusrap          59\n",
       "world           54\n",
       "Name: genre, dtype: int64"
      ]
     },
     "execution_count": 34,
     "metadata": {},
     "output_type": "execute_result"
    }
   ],
   "source": [
    "# вызов функции для вечера пятницы в Петербурге\n",
    "genre_weekday(spb_general, 'Friday', '17:00', '23:00')"
   ]
  },
  {
   "cell_type": "markdown",
   "metadata": {
    "id": "wrCe4MNX_Zcu"
   },
   "source": [
    "**Выводы**\n",
    "\n",
    "Если сравнить топ-10 жанров в понедельник утром, можно сделать такие выводы:\n",
    "\n",
    "1. В Москве и Петербурге слушают похожую музыку. Единственное отличие — в московский рейтинг вошёл жанр “world”, а в петербургский — джаз и классика.\n",
    "\n",
    "2. В Москве пропущенных значений оказалось так много, что значение `'unknown'` заняло десятое место среди самых популярных жанров. Значит, пропущенные значения занимают существенную долю в данных и угрожают достоверности исследования.\n",
    "\n",
    "Вечер пятницы не меняет эту картину. Некоторые жанры поднимаются немного выше, другие спускаются, но в целом топ-10 остаётся тем же самым.\n",
    "\n",
    "Таким образом, вторая гипотеза подтвердилась лишь частично:\n",
    "* Пользователи слушают похожую музыку в начале недели и в конце.\n",
    "* Разница между Москвой и Петербургом не слишком выражена. В Москве чаще слушают русскую популярную музыку, в Петербурге — джаз.\n",
    "\n",
    "Однако пропуски в данных ставят под сомнение этот результат. В Москве их так много, что рейтинг топ-10 мог бы выглядеть иначе, если бы не утерянные  данные о жанрах."
   ]
  },
  {
   "cell_type": "markdown",
   "metadata": {
    "id": "JolODAqr_Zcu"
   },
   "source": [
    "### Жанровые предпочтения в Москве и Петербурге\n",
    "\n",
    "Гипотеза: Петербург — столица рэпа, музыку этого жанра там слушают чаще, чем в Москве.  А Москва — город контрастов, в котором, тем не менее, преобладает поп-музыка."
   ]
  },
  {
   "cell_type": "markdown",
   "metadata": {
    "id": "DlegSvaT_Zcu"
   },
   "source": [
    "Сгруппируем таблицу `moscow_general` по жанру и посчитаем прослушивания треков каждого жанра методом `count()`. Затем отсортируем результат в порядке убывания."
   ]
  },
  {
   "cell_type": "code",
   "execution_count": 35,
   "metadata": {
    "id": "r19lIPke_Zcu"
   },
   "outputs": [],
   "source": [
    "\n",
    "moscow_genres=moscow_general.groupby('genre')['genre'].count().sort_values(ascending = False)"
   ]
  },
  {
   "cell_type": "code",
   "execution_count": 36,
   "metadata": {
    "id": "WhCSooF8_Zcv"
   },
   "outputs": [
    {
     "data": {
      "text/plain": [
       "genre\n",
       "pop            5892\n",
       "dance          4435\n",
       "rock           3965\n",
       "electronic     3786\n",
       "hiphop         2096\n",
       "classical      1616\n",
       "world          1432\n",
       "alternative    1379\n",
       "ruspop         1372\n",
       "rusrap         1161\n",
       "Name: genre, dtype: int64"
      ]
     },
     "execution_count": 36,
     "metadata": {},
     "output_type": "execute_result"
    }
   ],
   "source": [
    "# просмотр первых 10 строк moscow_genres\n",
    "moscow_genres.head(10)"
   ]
  },
  {
   "cell_type": "code",
   "execution_count": 37,
   "metadata": {
    "id": "gluLIpE7_Zcv"
   },
   "outputs": [],
   "source": [
    "\n",
    "spb_genres=spb_general.groupby('genre')['genre'].count().sort_values(ascending=False)"
   ]
  },
  {
   "cell_type": "code",
   "execution_count": 38,
   "metadata": {
    "id": "uaGJHjVU_Zcv"
   },
   "outputs": [
    {
     "data": {
      "text/plain": [
       "genre\n",
       "pop            2431\n",
       "dance          1932\n",
       "rock           1879\n",
       "electronic     1736\n",
       "hiphop          960\n",
       "alternative     649\n",
       "classical       646\n",
       "rusrap          564\n",
       "ruspop          538\n",
       "world           515\n",
       "Name: genre, dtype: int64"
      ]
     },
     "execution_count": 38,
     "metadata": {},
     "output_type": "execute_result"
    }
   ],
   "source": [
    "# просмотр первых 10 строк spb_genres\n",
    "spb_genres.head(10)"
   ]
  },
  {
   "cell_type": "markdown",
   "metadata": {
    "id": "RY51YJYu_Zcv"
   },
   "source": [
    "**Выводы**"
   ]
  },
  {
   "cell_type": "markdown",
   "metadata": {
    "id": "nVhnJEm__Zcv"
   },
   "source": [
    "Гипотеза частично подтвердилась:\n",
    "* Поп-музыка — самый популярный жанр в Москве, как и предполагала гипотеза. Более того, в топ-10 жанров встречается близкий жанр — русская популярная музыка.\n",
    "* Вопреки ожиданиям, рэп одинаково популярен в Москве и Петербурге. \n"
   ]
  },
  {
   "cell_type": "markdown",
   "metadata": {
    "id": "ykKQ0N65_Zcv"
   },
   "source": [
    "## Итоги исследования"
   ]
  },
  {
   "cell_type": "markdown",
   "metadata": {
    "id": "tjUwbHb3_Zcv"
   },
   "source": [
    "Мы проверили три гипотезы и установили:\n",
    "\n",
    "1. День недели по-разному влияет на активность пользователей в Москве и Петербурге. \n",
    "\n",
    "Первая гипотеза полностью подтвердилась.\n",
    "\n",
    "2. Музыкальные предпочтения не сильно меняются в течение недели — будь то Москва или Петербург. Небольшие различия заметны в начале недели, по понедельникам:\n",
    "* в Москве слушают музыку жанра “world”,\n",
    "* в Петербурге — джаз и классику.\n",
    "\n",
    "Таким образом, вторая гипотеза подтвердилась лишь отчасти. Этот результат мог оказаться иным, если бы не пропуски в данных.\n",
    "\n",
    "3. Во вкусах пользователей Москвы и Петербурга больше общего чем различий. Вопреки ожиданиям, предпочтения жанров в Петербурге напоминают московские.\n",
    "\n",
    "Третья гипотеза не подтвердилась. Если различия в предпочтениях и существуют, на основной массе пользователей они незаметны.\n",
    "\n",
    "\n"
   ]
  }
 ],
 "metadata": {
  "ExecuteTimeLog": [
   {
    "duration": 393,
    "start_time": "2021-11-14T10:32:33.923Z"
   },
   {
    "duration": 507,
    "start_time": "2021-11-14T10:32:53.192Z"
   },
   {
    "duration": 725,
    "start_time": "2021-11-14T10:33:08.049Z"
   },
   {
    "duration": 182,
    "start_time": "2021-11-14T10:33:14.685Z"
   },
   {
    "duration": 27,
    "start_time": "2021-11-14T10:33:19.493Z"
   },
   {
    "duration": 32,
    "start_time": "2021-11-14T10:33:24.186Z"
   },
   {
    "duration": 6,
    "start_time": "2021-11-14T10:52:49.999Z"
   },
   {
    "duration": 95,
    "start_time": "2021-11-14T10:55:14.455Z"
   },
   {
    "duration": 41,
    "start_time": "2021-11-14T10:55:29.620Z"
   },
   {
    "duration": 6,
    "start_time": "2021-11-14T10:56:01.952Z"
   },
   {
    "duration": 53,
    "start_time": "2021-11-14T10:58:29.054Z"
   },
   {
    "duration": 32,
    "start_time": "2021-11-14T10:58:45.904Z"
   },
   {
    "duration": 28,
    "start_time": "2021-11-14T10:58:51.049Z"
   },
   {
    "duration": 8,
    "start_time": "2021-11-14T10:59:01.023Z"
   },
   {
    "duration": 18,
    "start_time": "2021-11-14T10:59:49.438Z"
   },
   {
    "duration": 5,
    "start_time": "2021-11-14T10:59:53.717Z"
   },
   {
    "duration": 31,
    "start_time": "2021-11-14T11:01:42.891Z"
   },
   {
    "duration": 30,
    "start_time": "2021-11-14T11:10:22.331Z"
   },
   {
    "duration": 46,
    "start_time": "2021-11-14T11:10:42.718Z"
   },
   {
    "duration": 83,
    "start_time": "2021-11-14T11:16:50.500Z"
   },
   {
    "duration": 103,
    "start_time": "2021-11-14T11:17:58.656Z"
   },
   {
    "duration": 76,
    "start_time": "2021-11-14T11:18:07.961Z"
   },
   {
    "duration": 21,
    "start_time": "2021-11-14T11:23:13.296Z"
   },
   {
    "duration": 4,
    "start_time": "2021-11-14T11:39:29.948Z"
   },
   {
    "duration": 5,
    "start_time": "2021-11-14T11:39:32.703Z"
   },
   {
    "duration": 21,
    "start_time": "2021-11-14T11:39:53.237Z"
   },
   {
    "duration": 4,
    "start_time": "2021-11-14T11:51:30.215Z"
   },
   {
    "duration": 943,
    "start_time": "2021-11-14T11:54:59.821Z"
   },
   {
    "duration": 1145,
    "start_time": "2021-11-14T11:57:22.943Z"
   },
   {
    "duration": 3,
    "start_time": "2021-11-14T11:57:38.742Z"
   },
   {
    "duration": 14,
    "start_time": "2021-11-14T11:57:41.959Z"
   },
   {
    "duration": 3,
    "start_time": "2021-11-14T11:57:53.390Z"
   },
   {
    "duration": 5,
    "start_time": "2021-11-14T12:00:55.116Z"
   },
   {
    "duration": 4,
    "start_time": "2021-11-14T12:02:31.238Z"
   },
   {
    "duration": 35,
    "start_time": "2021-11-14T12:03:37.456Z"
   },
   {
    "duration": 17,
    "start_time": "2021-11-14T12:03:52.870Z"
   },
   {
    "duration": 361,
    "start_time": "2021-11-14T12:42:45.310Z"
   },
   {
    "duration": 6,
    "start_time": "2021-11-14T12:44:43.575Z"
   },
   {
    "duration": 4,
    "start_time": "2021-11-14T12:48:25.656Z"
   },
   {
    "duration": 36,
    "start_time": "2021-11-14T12:49:07.452Z"
   },
   {
    "duration": 35,
    "start_time": "2021-11-14T12:49:11.201Z"
   },
   {
    "duration": 14,
    "start_time": "2021-11-14T12:50:02.072Z"
   },
   {
    "duration": 597,
    "start_time": "2021-11-14T16:33:47.151Z"
   },
   {
    "duration": 528,
    "start_time": "2021-11-14T16:37:48.148Z"
   },
   {
    "duration": 367,
    "start_time": "2021-11-14T16:38:00.228Z"
   },
   {
    "duration": 441,
    "start_time": "2021-11-14T16:38:14.477Z"
   },
   {
    "duration": 640,
    "start_time": "2021-11-14T16:38:49.303Z"
   },
   {
    "duration": 126,
    "start_time": "2021-11-14T16:38:52.405Z"
   },
   {
    "duration": 16,
    "start_time": "2021-11-14T16:38:56.553Z"
   },
   {
    "duration": 22,
    "start_time": "2021-11-14T16:38:57.933Z"
   },
   {
    "duration": 4,
    "start_time": "2021-11-14T16:39:08.137Z"
   },
   {
    "duration": 23,
    "start_time": "2021-11-14T16:39:11.189Z"
   },
   {
    "duration": 4,
    "start_time": "2021-11-14T16:39:13.486Z"
   },
   {
    "duration": 21,
    "start_time": "2021-11-14T16:39:16.745Z"
   },
   {
    "duration": 16,
    "start_time": "2021-11-14T16:39:21.196Z"
   },
   {
    "duration": 21,
    "start_time": "2021-11-14T16:39:24.034Z"
   },
   {
    "duration": 52,
    "start_time": "2021-11-14T16:39:27.082Z"
   },
   {
    "duration": 65,
    "start_time": "2021-11-14T16:39:32.329Z"
   },
   {
    "duration": 48,
    "start_time": "2021-11-14T16:39:34.679Z"
   },
   {
    "duration": 9,
    "start_time": "2021-11-14T16:39:37.980Z"
   },
   {
    "duration": 3,
    "start_time": "2021-11-14T16:39:43.971Z"
   },
   {
    "duration": 15,
    "start_time": "2021-11-14T16:39:47.001Z"
   },
   {
    "duration": 14,
    "start_time": "2021-11-14T16:39:53.969Z"
   },
   {
    "duration": 10,
    "start_time": "2021-11-14T16:40:03.363Z"
   },
   {
    "duration": 11,
    "start_time": "2021-11-14T16:40:09.665Z"
   },
   {
    "duration": 527,
    "start_time": "2021-11-14T16:40:25.835Z"
   },
   {
    "duration": 9,
    "start_time": "2021-11-14T16:40:31.429Z"
   },
   {
    "duration": 373,
    "start_time": "2021-11-14T16:40:41.144Z"
   },
   {
    "duration": 473,
    "start_time": "2021-11-14T16:41:12.800Z"
   },
   {
    "duration": 9,
    "start_time": "2021-11-14T16:41:26.330Z"
   },
   {
    "duration": 8,
    "start_time": "2021-11-14T16:45:33.025Z"
   },
   {
    "duration": 8,
    "start_time": "2021-11-14T16:45:38.968Z"
   },
   {
    "duration": 9,
    "start_time": "2021-11-14T16:45:46.423Z"
   },
   {
    "duration": 356,
    "start_time": "2021-11-14T17:24:08.771Z"
   },
   {
    "duration": 3,
    "start_time": "2021-11-14T17:24:17.258Z"
   },
   {
    "duration": 713,
    "start_time": "2021-11-14T17:24:19.994Z"
   },
   {
    "duration": 695,
    "start_time": "2021-11-14T17:24:21.748Z"
   },
   {
    "duration": 5,
    "start_time": "2021-11-14T17:24:30.316Z"
   },
   {
    "duration": 715,
    "start_time": "2021-11-14T17:24:32.890Z"
   },
   {
    "duration": 3,
    "start_time": "2021-11-14T17:25:40.646Z"
   },
   {
    "duration": 717,
    "start_time": "2021-11-14T17:25:44.955Z"
   },
   {
    "duration": 720,
    "start_time": "2021-11-14T17:25:57.651Z"
   },
   {
    "duration": 794,
    "start_time": "2021-11-14T17:26:29.445Z"
   },
   {
    "duration": -130,
    "start_time": "2021-11-14T17:26:30.371Z"
   },
   {
    "duration": 3,
    "start_time": "2021-11-14T17:30:05.022Z"
   },
   {
    "duration": 3,
    "start_time": "2021-11-14T17:30:08.483Z"
   },
   {
    "duration": 15,
    "start_time": "2021-11-14T17:30:11.106Z"
   },
   {
    "duration": 13,
    "start_time": "2021-11-14T17:30:14.823Z"
   },
   {
    "duration": 15,
    "start_time": "2021-11-14T17:30:18.219Z"
   },
   {
    "duration": 13,
    "start_time": "2021-11-14T17:30:20.616Z"
   },
   {
    "duration": 16,
    "start_time": "2021-11-14T17:30:22.692Z"
   },
   {
    "duration": 14,
    "start_time": "2021-11-14T17:30:24.970Z"
   },
   {
    "duration": 8,
    "start_time": "2021-11-14T17:34:50.338Z"
   },
   {
    "duration": 9,
    "start_time": "2021-11-14T18:36:03.341Z"
   },
   {
    "duration": 10,
    "start_time": "2021-11-14T18:36:06.379Z"
   },
   {
    "duration": 22,
    "start_time": "2021-11-14T18:36:33.832Z"
   },
   {
    "duration": 10,
    "start_time": "2021-11-14T18:36:42.077Z"
   },
   {
    "duration": 4,
    "start_time": "2021-11-14T19:47:56.786Z"
   },
   {
    "duration": 17,
    "start_time": "2021-11-14T19:49:39.067Z"
   },
   {
    "duration": 13,
    "start_time": "2021-11-14T19:50:14.732Z"
   },
   {
    "duration": 16,
    "start_time": "2021-11-14T19:50:57.429Z"
   },
   {
    "duration": 12,
    "start_time": "2021-11-14T19:51:21.974Z"
   },
   {
    "duration": 7,
    "start_time": "2021-11-14T20:00:20.666Z"
   },
   {
    "duration": 5,
    "start_time": "2021-11-14T20:00:40.703Z"
   },
   {
    "duration": 356,
    "start_time": "2021-11-14T20:01:45.580Z"
   },
   {
    "duration": 5,
    "start_time": "2021-11-14T20:01:54.139Z"
   },
   {
    "duration": 5,
    "start_time": "2021-11-14T20:01:56.059Z"
   },
   {
    "duration": 794,
    "start_time": "2021-11-15T12:51:38.190Z"
   },
   {
    "duration": 178,
    "start_time": "2021-11-15T12:51:38.986Z"
   },
   {
    "duration": 29,
    "start_time": "2021-11-15T12:51:39.167Z"
   },
   {
    "duration": 33,
    "start_time": "2021-11-15T12:51:39.199Z"
   },
   {
    "duration": 5,
    "start_time": "2021-11-15T12:51:39.235Z"
   },
   {
    "duration": 58,
    "start_time": "2021-11-15T12:51:39.242Z"
   },
   {
    "duration": 17,
    "start_time": "2021-11-15T12:51:39.302Z"
   },
   {
    "duration": 33,
    "start_time": "2021-11-15T12:51:39.323Z"
   },
   {
    "duration": 34,
    "start_time": "2021-11-15T12:51:39.359Z"
   },
   {
    "duration": 30,
    "start_time": "2021-11-15T12:51:39.396Z"
   },
   {
    "duration": 95,
    "start_time": "2021-11-15T12:51:39.429Z"
   },
   {
    "duration": 108,
    "start_time": "2021-11-15T12:51:39.527Z"
   },
   {
    "duration": 81,
    "start_time": "2021-11-15T12:51:39.638Z"
   },
   {
    "duration": 12,
    "start_time": "2021-11-15T12:51:39.722Z"
   },
   {
    "duration": 6,
    "start_time": "2021-11-15T12:51:39.736Z"
   },
   {
    "duration": 46,
    "start_time": "2021-11-15T12:51:39.744Z"
   },
   {
    "duration": 16,
    "start_time": "2021-11-15T12:51:39.792Z"
   },
   {
    "duration": 17,
    "start_time": "2021-11-15T12:51:39.811Z"
   },
   {
    "duration": 13,
    "start_time": "2021-11-15T12:51:39.831Z"
   },
   {
    "duration": 4,
    "start_time": "2021-11-15T12:51:39.847Z"
   },
   {
    "duration": 20,
    "start_time": "2021-11-15T12:51:39.883Z"
   },
   {
    "duration": 19,
    "start_time": "2021-11-15T12:51:39.906Z"
   },
   {
    "duration": 26,
    "start_time": "2021-11-15T12:51:39.929Z"
   },
   {
    "duration": 18,
    "start_time": "2021-11-15T12:51:39.982Z"
   },
   {
    "duration": 28,
    "start_time": "2021-11-15T12:51:40.003Z"
   },
   {
    "duration": 19,
    "start_time": "2021-11-15T12:51:40.034Z"
   },
   {
    "duration": 13,
    "start_time": "2021-11-15T12:51:40.082Z"
   },
   {
    "duration": 19,
    "start_time": "2021-11-15T12:51:40.097Z"
   },
   {
    "duration": 12,
    "start_time": "2021-11-15T12:51:40.118Z"
   },
   {
    "duration": 6,
    "start_time": "2021-11-15T12:51:40.132Z"
   },
   {
    "duration": 61,
    "start_time": "2021-11-15T12:51:40.140Z"
   },
   {
    "duration": 22,
    "start_time": "2021-11-15T12:51:40.203Z"
   },
   {
    "duration": 27,
    "start_time": "2021-11-15T12:51:40.227Z"
   },
   {
    "duration": 33,
    "start_time": "2021-11-15T12:51:40.257Z"
   },
   {
    "duration": 13,
    "start_time": "2021-11-15T12:51:40.293Z"
   },
   {
    "duration": 9,
    "start_time": "2021-11-15T12:51:40.308Z"
   },
   {
    "duration": 11,
    "start_time": "2021-11-15T12:51:40.320Z"
   },
   {
    "duration": 6,
    "start_time": "2021-11-15T12:51:40.333Z"
   },
   {
    "duration": 386,
    "start_time": "2021-11-15T13:55:14.152Z"
   },
   {
    "duration": 606,
    "start_time": "2021-11-15T13:55:17.963Z"
   },
   {
    "duration": 942,
    "start_time": "2021-11-15T13:55:21.597Z"
   },
   {
    "duration": 773,
    "start_time": "2021-11-15T13:55:29.041Z"
   },
   {
    "duration": 782,
    "start_time": "2021-11-15T13:55:34.260Z"
   },
   {
    "duration": 19,
    "start_time": "2021-11-15T14:09:19.536Z"
   },
   {
    "duration": 48,
    "start_time": "2021-11-15T14:10:57.413Z"
   },
   {
    "duration": 3,
    "start_time": "2021-11-15T14:14:01.162Z"
   },
   {
    "duration": 8,
    "start_time": "2021-11-15T14:14:06.793Z"
   },
   {
    "duration": 42,
    "start_time": "2021-11-15T14:14:33.796Z"
   },
   {
    "duration": 3,
    "start_time": "2021-11-15T14:14:57.569Z"
   },
   {
    "duration": 300,
    "start_time": "2021-11-15T14:16:18.663Z"
   },
   {
    "duration": 657,
    "start_time": "2021-11-15T14:16:32.018Z"
   },
   {
    "duration": 770,
    "start_time": "2021-11-15T14:16:32.677Z"
   },
   {
    "duration": 15,
    "start_time": "2021-11-15T14:16:33.450Z"
   },
   {
    "duration": 93,
    "start_time": "2021-11-15T14:16:33.467Z"
   },
   {
    "duration": 9,
    "start_time": "2021-11-15T14:16:33.562Z"
   },
   {
    "duration": 21,
    "start_time": "2021-11-15T14:16:33.573Z"
   },
   {
    "duration": 4,
    "start_time": "2021-11-15T14:16:33.595Z"
   },
   {
    "duration": 23,
    "start_time": "2021-11-15T14:16:33.602Z"
   },
   {
    "duration": 28,
    "start_time": "2021-11-15T14:16:33.627Z"
   },
   {
    "duration": 22,
    "start_time": "2021-11-15T14:16:33.657Z"
   },
   {
    "duration": 75,
    "start_time": "2021-11-15T14:16:33.681Z"
   },
   {
    "duration": 70,
    "start_time": "2021-11-15T14:16:33.758Z"
   },
   {
    "duration": 63,
    "start_time": "2021-11-15T14:16:33.830Z"
   },
   {
    "duration": 54,
    "start_time": "2021-11-15T14:16:33.895Z"
   },
   {
    "duration": 3,
    "start_time": "2021-11-15T14:16:33.951Z"
   },
   {
    "duration": 12,
    "start_time": "2021-11-15T14:16:33.956Z"
   },
   {
    "duration": 41,
    "start_time": "2021-11-15T14:16:33.970Z"
   },
   {
    "duration": 33,
    "start_time": "2021-11-15T14:16:34.013Z"
   },
   {
    "duration": 10,
    "start_time": "2021-11-15T14:16:34.048Z"
   },
   {
    "duration": 4,
    "start_time": "2021-11-15T14:16:34.060Z"
   },
   {
    "duration": 19,
    "start_time": "2021-11-15T14:16:34.065Z"
   },
   {
    "duration": 14,
    "start_time": "2021-11-15T14:16:34.086Z"
   },
   {
    "duration": 44,
    "start_time": "2021-11-15T14:16:34.104Z"
   },
   {
    "duration": 14,
    "start_time": "2021-11-15T14:16:34.150Z"
   },
   {
    "duration": 15,
    "start_time": "2021-11-15T14:16:34.166Z"
   },
   {
    "duration": 14,
    "start_time": "2021-11-15T14:16:34.183Z"
   },
   {
    "duration": 8,
    "start_time": "2021-11-15T14:16:34.199Z"
   },
   {
    "duration": 44,
    "start_time": "2021-11-15T14:16:34.208Z"
   },
   {
    "duration": 9,
    "start_time": "2021-11-15T14:16:34.254Z"
   },
   {
    "duration": 4,
    "start_time": "2021-11-15T14:16:34.265Z"
   },
   {
    "duration": 26,
    "start_time": "2021-11-15T14:16:34.270Z"
   },
   {
    "duration": 15,
    "start_time": "2021-11-15T14:16:34.298Z"
   },
   {
    "duration": 35,
    "start_time": "2021-11-15T14:16:34.315Z"
   },
   {
    "duration": 13,
    "start_time": "2021-11-15T14:16:34.352Z"
   },
   {
    "duration": 8,
    "start_time": "2021-11-15T14:16:34.366Z"
   },
   {
    "duration": 4,
    "start_time": "2021-11-15T14:16:34.376Z"
   },
   {
    "duration": 9,
    "start_time": "2021-11-15T14:16:34.382Z"
   },
   {
    "duration": 8,
    "start_time": "2021-11-15T14:16:34.393Z"
   },
   {
    "duration": 10,
    "start_time": "2021-11-15T14:17:13.596Z"
   },
   {
    "duration": 628,
    "start_time": "2021-11-15T14:20:13.707Z"
   },
   {
    "duration": 725,
    "start_time": "2021-11-15T14:20:14.337Z"
   },
   {
    "duration": 17,
    "start_time": "2021-11-15T14:20:15.064Z"
   },
   {
    "duration": 115,
    "start_time": "2021-11-15T14:20:15.083Z"
   },
   {
    "duration": 25,
    "start_time": "2021-11-15T14:20:15.200Z"
   },
   {
    "duration": 26,
    "start_time": "2021-11-15T14:20:15.227Z"
   },
   {
    "duration": 22,
    "start_time": "2021-11-15T14:20:15.255Z"
   },
   {
    "duration": 28,
    "start_time": "2021-11-15T14:20:15.279Z"
   },
   {
    "duration": 20,
    "start_time": "2021-11-15T14:20:15.309Z"
   },
   {
    "duration": 29,
    "start_time": "2021-11-15T14:20:15.331Z"
   },
   {
    "duration": 80,
    "start_time": "2021-11-15T14:20:15.362Z"
   },
   {
    "duration": 74,
    "start_time": "2021-11-15T14:20:15.444Z"
   },
   {
    "duration": 65,
    "start_time": "2021-11-15T14:20:15.520Z"
   },
   {
    "duration": 40,
    "start_time": "2021-11-15T14:20:15.587Z"
   },
   {
    "duration": 3,
    "start_time": "2021-11-15T14:20:15.629Z"
   },
   {
    "duration": 22,
    "start_time": "2021-11-15T14:20:15.645Z"
   },
   {
    "duration": 66,
    "start_time": "2021-11-15T14:20:15.669Z"
   },
   {
    "duration": 11,
    "start_time": "2021-11-15T14:20:15.737Z"
   },
   {
    "duration": 20,
    "start_time": "2021-11-15T14:20:15.750Z"
   },
   {
    "duration": 6,
    "start_time": "2021-11-15T14:20:15.772Z"
   },
   {
    "duration": 27,
    "start_time": "2021-11-15T14:20:15.779Z"
   },
   {
    "duration": 15,
    "start_time": "2021-11-15T14:20:15.808Z"
   },
   {
    "duration": 26,
    "start_time": "2021-11-15T14:20:15.827Z"
   },
   {
    "duration": 57,
    "start_time": "2021-11-15T14:20:15.856Z"
   },
   {
    "duration": 34,
    "start_time": "2021-11-15T14:20:15.915Z"
   },
   {
    "duration": 24,
    "start_time": "2021-11-15T14:20:15.951Z"
   },
   {
    "duration": 14,
    "start_time": "2021-11-15T14:20:15.977Z"
   },
   {
    "duration": 28,
    "start_time": "2021-11-15T14:20:15.993Z"
   },
   {
    "duration": 20,
    "start_time": "2021-11-15T14:20:16.022Z"
   },
   {
    "duration": 12,
    "start_time": "2021-11-15T14:20:16.044Z"
   },
   {
    "duration": 35,
    "start_time": "2021-11-15T14:20:16.058Z"
   },
   {
    "duration": 38,
    "start_time": "2021-11-15T14:20:16.094Z"
   },
   {
    "duration": 19,
    "start_time": "2021-11-15T14:20:16.134Z"
   },
   {
    "duration": 14,
    "start_time": "2021-11-15T14:20:16.155Z"
   },
   {
    "duration": 34,
    "start_time": "2021-11-15T14:20:16.171Z"
   },
   {
    "duration": 29,
    "start_time": "2021-11-15T14:20:16.207Z"
   },
   {
    "duration": 37,
    "start_time": "2021-11-15T14:20:16.238Z"
   },
   {
    "duration": 21,
    "start_time": "2021-11-15T14:20:16.277Z"
   },
   {
    "duration": 597,
    "start_time": "2021-11-15T14:22:03.672Z"
   },
   {
    "duration": 734,
    "start_time": "2021-11-15T14:22:04.271Z"
   },
   {
    "duration": 19,
    "start_time": "2021-11-15T14:22:05.007Z"
   },
   {
    "duration": 94,
    "start_time": "2021-11-15T14:22:05.028Z"
   },
   {
    "duration": 8,
    "start_time": "2021-11-15T14:22:05.123Z"
   },
   {
    "duration": 25,
    "start_time": "2021-11-15T14:22:05.133Z"
   },
   {
    "duration": 5,
    "start_time": "2021-11-15T14:22:05.160Z"
   },
   {
    "duration": 30,
    "start_time": "2021-11-15T14:22:05.168Z"
   },
   {
    "duration": 20,
    "start_time": "2021-11-15T14:22:05.200Z"
   },
   {
    "duration": 30,
    "start_time": "2021-11-15T14:22:05.222Z"
   },
   {
    "duration": 67,
    "start_time": "2021-11-15T14:22:05.253Z"
   },
   {
    "duration": 81,
    "start_time": "2021-11-15T14:22:05.322Z"
   },
   {
    "duration": 60,
    "start_time": "2021-11-15T14:22:05.405Z"
   },
   {
    "duration": 39,
    "start_time": "2021-11-15T14:22:05.467Z"
   },
   {
    "duration": 12,
    "start_time": "2021-11-15T14:22:05.508Z"
   },
   {
    "duration": 21,
    "start_time": "2021-11-15T14:22:05.523Z"
   },
   {
    "duration": 40,
    "start_time": "2021-11-15T14:22:05.546Z"
   },
   {
    "duration": 12,
    "start_time": "2021-11-15T14:22:05.588Z"
   },
   {
    "duration": 12,
    "start_time": "2021-11-15T14:22:05.602Z"
   },
   {
    "duration": 28,
    "start_time": "2021-11-15T14:22:05.617Z"
   },
   {
    "duration": 23,
    "start_time": "2021-11-15T14:22:05.648Z"
   },
   {
    "duration": 16,
    "start_time": "2021-11-15T14:22:05.673Z"
   },
   {
    "duration": 15,
    "start_time": "2021-11-15T14:22:05.693Z"
   },
   {
    "duration": 43,
    "start_time": "2021-11-15T14:22:05.710Z"
   },
   {
    "duration": 20,
    "start_time": "2021-11-15T14:22:05.754Z"
   },
   {
    "duration": 14,
    "start_time": "2021-11-15T14:22:05.775Z"
   },
   {
    "duration": 17,
    "start_time": "2021-11-15T14:22:05.790Z"
   },
   {
    "duration": 16,
    "start_time": "2021-11-15T14:22:05.808Z"
   },
   {
    "duration": 22,
    "start_time": "2021-11-15T14:22:05.826Z"
   },
   {
    "duration": 3,
    "start_time": "2021-11-15T14:22:05.850Z"
   },
   {
    "duration": 30,
    "start_time": "2021-11-15T14:22:05.854Z"
   },
   {
    "duration": 12,
    "start_time": "2021-11-15T14:22:05.885Z"
   },
   {
    "duration": 16,
    "start_time": "2021-11-15T14:22:05.899Z"
   },
   {
    "duration": 33,
    "start_time": "2021-11-15T14:22:05.917Z"
   },
   {
    "duration": 8,
    "start_time": "2021-11-15T14:22:05.952Z"
   },
   {
    "duration": 5,
    "start_time": "2021-11-15T14:22:05.961Z"
   },
   {
    "duration": 13,
    "start_time": "2021-11-15T14:22:05.967Z"
   },
   {
    "duration": 12,
    "start_time": "2021-11-15T14:22:05.982Z"
   },
   {
    "duration": 641,
    "start_time": "2021-11-15T14:31:40.630Z"
   },
   {
    "duration": 789,
    "start_time": "2021-11-15T14:31:41.273Z"
   },
   {
    "duration": 16,
    "start_time": "2021-11-15T14:31:42.064Z"
   },
   {
    "duration": 82,
    "start_time": "2021-11-15T14:31:42.082Z"
   },
   {
    "duration": 4,
    "start_time": "2021-11-15T14:31:42.166Z"
   },
   {
    "duration": 22,
    "start_time": "2021-11-15T14:31:42.172Z"
   },
   {
    "duration": 4,
    "start_time": "2021-11-15T14:31:42.196Z"
   },
   {
    "duration": 24,
    "start_time": "2021-11-15T14:31:42.202Z"
   },
   {
    "duration": 31,
    "start_time": "2021-11-15T14:31:42.228Z"
   },
   {
    "duration": 23,
    "start_time": "2021-11-15T14:31:42.261Z"
   },
   {
    "duration": 69,
    "start_time": "2021-11-15T14:31:42.285Z"
   },
   {
    "duration": 68,
    "start_time": "2021-11-15T14:31:42.356Z"
   },
   {
    "duration": 65,
    "start_time": "2021-11-15T14:31:42.426Z"
   },
   {
    "duration": 58,
    "start_time": "2021-11-15T14:31:42.493Z"
   },
   {
    "duration": 2,
    "start_time": "2021-11-15T14:31:42.553Z"
   },
   {
    "duration": 15,
    "start_time": "2021-11-15T14:31:42.557Z"
   },
   {
    "duration": 42,
    "start_time": "2021-11-15T14:31:42.574Z"
   },
   {
    "duration": 12,
    "start_time": "2021-11-15T14:31:42.618Z"
   },
   {
    "duration": 10,
    "start_time": "2021-11-15T14:31:42.645Z"
   },
   {
    "duration": 3,
    "start_time": "2021-11-15T14:31:42.657Z"
   },
   {
    "duration": 22,
    "start_time": "2021-11-15T14:31:42.662Z"
   },
   {
    "duration": 14,
    "start_time": "2021-11-15T14:31:42.686Z"
   },
   {
    "duration": 43,
    "start_time": "2021-11-15T14:31:42.702Z"
   },
   {
    "duration": 16,
    "start_time": "2021-11-15T14:31:42.747Z"
   },
   {
    "duration": 21,
    "start_time": "2021-11-15T14:31:42.765Z"
   },
   {
    "duration": 15,
    "start_time": "2021-11-15T14:31:42.788Z"
   },
   {
    "duration": 9,
    "start_time": "2021-11-15T14:31:42.806Z"
   },
   {
    "duration": 37,
    "start_time": "2021-11-15T14:31:42.817Z"
   },
   {
    "duration": 11,
    "start_time": "2021-11-15T14:31:42.856Z"
   },
   {
    "duration": 4,
    "start_time": "2021-11-15T14:31:42.869Z"
   },
   {
    "duration": 23,
    "start_time": "2021-11-15T14:31:42.875Z"
   },
   {
    "duration": 12,
    "start_time": "2021-11-15T14:31:42.900Z"
   },
   {
    "duration": 42,
    "start_time": "2021-11-15T14:31:42.914Z"
   },
   {
    "duration": 13,
    "start_time": "2021-11-15T14:31:42.958Z"
   },
   {
    "duration": 8,
    "start_time": "2021-11-15T14:31:42.972Z"
   },
   {
    "duration": 6,
    "start_time": "2021-11-15T14:31:42.982Z"
   },
   {
    "duration": 9,
    "start_time": "2021-11-15T14:31:42.990Z"
   },
   {
    "duration": 15,
    "start_time": "2021-11-15T14:31:43.001Z"
   }
  ],
  "colab": {
   "collapsed_sections": [
    "E0vqbgi9ay0H",
    "VUC88oWjTJw2"
   ],
   "name": "yandex_music_project_2021.2.ipynb",
   "provenance": []
  },
  "kernelspec": {
   "display_name": "Python 3",
   "language": "python",
   "name": "python3"
  },
  "language_info": {
   "codemirror_mode": {
    "name": "ipython",
    "version": 3
   },
   "file_extension": ".py",
   "mimetype": "text/x-python",
   "name": "python",
   "nbconvert_exporter": "python",
   "pygments_lexer": "ipython3",
   "version": "3.8.8"
  },
  "toc": {
   "base_numbering": 1,
   "nav_menu": {},
   "number_sections": true,
   "sideBar": true,
   "skip_h1_title": true,
   "title_cell": "Table of Contents",
   "title_sidebar": "Contents",
   "toc_cell": false,
   "toc_position": {},
   "toc_section_display": true,
   "toc_window_display": false
  }
 },
 "nbformat": 4,
 "nbformat_minor": 1
}
